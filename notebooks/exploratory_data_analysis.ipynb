{
 "cells": [
  {
   "cell_type": "code",
   "execution_count": null,
   "metadata": {},
   "outputs": [],
   "source": [
    "# Dependencies\n",
    "import pandas as pd\n",
    "import matplotlib.pyplot as plt\n",
    "import seaborn as sns\n",
    "\n",
    "# Plots displayed in notebook\n",
    "%matplotlib inline"
   ]
  },
  {
   "cell_type": "code",
   "execution_count": null,
   "metadata": {},
   "outputs": [],
   "source": [
    "# Load movie data\n",
    "movies_df = pd.read_csv('../data/movie.csv')\n",
    "print(movies_df.head())"
   ]
  },
  {
   "cell_type": "markdown",
   "metadata": {},
   "source": [
    "### Movie Data Overview\n",
    "Data parameters seem to be `movieId`, `title` with year appended to the movie name and `genres` seperated by `|`. "
   ]
  },
  {
   "cell_type": "code",
   "execution_count": null,
   "metadata": {},
   "outputs": [],
   "source": [
    "# Splitting the genres column\n",
    "all_genres = movies_df['genres'].str.split('|', expand=True).stack()\n",
    "\n",
    "# Converting to DataFrame and resetting index\n",
    "all_genres_df = all_genres.to_frame(name='genre').reset_index(drop=True)\n",
    "\n",
    "# Plotting the frequency of each genre\n",
    "plt.figure(figsize=(10, 8))\n",
    "sns.countplot(y='genre', data=all_genres_df, order=all_genres_df['genre'].value_counts().index)\n",
    "plt.title('Movie Genre Distribution')\n",
    "plt.xlabel('Number of Movies')\n",
    "plt.ylabel('Genre')\n",
    "plt.show()"
   ]
  },
  {
   "cell_type": "markdown",
   "metadata": {},
   "source": [
    "### Genre Distribution Analysis\n",
    "Processed the 'genres' column to split genre in each movie and give them their own index. \n",
    "\n",
    "Then used these inices to find the frequency distribution for each genre which is attached below.\n",
    "\n",
    "![Movie genre frequency distribution](https://i.postimg.cc/63PBGWjR/temp-Image-KAu-Jx-N.avif)"
   ]
  },
  {
   "cell_type": "code",
   "execution_count": null,
   "metadata": {},
   "outputs": [],
   "source": [
    "# Load genome_scores and genome_tags data\n",
    "genome_scores_df = pd.read_csv('../data/genome_scores.csv')\n",
    "genome_tags_df = pd.read_csv('../data/genome_tags.csv')\n",
    "\n",
    "print(genome_scores_df.head())\n",
    "print(genome_tags_df.head())"
   ]
  },
  {
   "cell_type": "markdown",
   "metadata": {},
   "source": [
    "### Tag Data Overview\n",
    "Data parameters for `genome_scores` seem to be `movieId`, `tagId` and `relevance`.\n",
    "\n",
    "Data parameters for `genome_tags` seem to be `tagId` and `tag`.\n",
    "\n",
    "We'll merge these two dataframes and use 'tagId' as the key value."
   ]
  },
  {
   "cell_type": "code",
   "execution_count": null,
   "metadata": {},
   "outputs": [],
   "source": [
    "# Merging the dataframes\n",
    "tag_info_df = pd.merge(genome_scores_df, genome_tags_df, on='tagId')\n",
    "\n",
    "# Plotting the tags with highest frequency\n",
    "most_common_tags = tag_info_df['tag'].value_counts().head(20)\n",
    "plt.figure(figsize=(10, 8))\n",
    "sns.barplot(y=most_common_tags.index, x=most_common_tags.values)\n",
    "plt.title('Top 20 Most Common Tags')\n",
    "plt.xlabel('Number of Occurrences')\n",
    "plt.ylabel('Tags')\n",
    "plt.show()"
   ]
  },
  {
   "cell_type": "markdown",
   "metadata": {},
   "source": [
    "### Top Frequent Tag Analysis\n",
    "Plotted the highest frequency tags (attached below). This data seems to be skewed due to user generated events like oscars, etc. \n",
    "\n",
    "Since this is basically useless, will also analyze the relevancy scores for the tags to determine if the tag is of any use at all.\n",
    "\n",
    "![Top 20 Most Common Tags](https://i.postimg.cc/prw9tYKm/temp-Imagek-Tm4-YG.avif)"
   ]
  },
  {
   "cell_type": "code",
   "execution_count": null,
   "metadata": {},
   "outputs": [],
   "source": [
    "# Merge by movieId and tag and then aggregate by mean relevance\n",
    "tag_relevance_df = tag_info_df.groupby(['movieId', 'tag']).agg({'relevance': 'mean'})\n",
    "\n",
    "# Get top tags by relevance\n",
    "top_tags = tag_relevance_df['relevance'].sort_values(ascending=False).head(20)\n",
    "\n",
    "# Plotting relevance scores\n",
    "plt.figure(figsize=(10, 6))\n",
    "sns.histplot(tag_info_df['relevance'], bins=30)\n",
    "plt.title('Distribution of Tag Relevance Scores')\n",
    "plt.xlabel('Relevance Score')\n",
    "plt.ylabel('Frequency')\n",
    "plt.show()"
   ]
  },
  {
   "cell_type": "markdown",
   "metadata": {},
   "source": [
    "### Tag Relevancy Scores\n",
    "\n",
    "The graph (attached below) indicates that most tags have a very low relevancy scores so it would make sense to set a threshold relavance score to filter out the less relevant tags.\n",
    "\n",
    "![Plot of Tag Relevance Scores](https://i.postimg.cc/9XZ7j0Ls/temp-Image8g-TJBT.avif)"
   ]
  }
 ],
 "metadata": {
  "kernelspec": {
   "display_name": ".venv",
   "language": "python",
   "name": "python3"
  },
  "language_info": {
   "codemirror_mode": {
    "name": "ipython",
    "version": 3
   },
   "file_extension": ".py",
   "mimetype": "text/x-python",
   "name": "python",
   "nbconvert_exporter": "python",
   "pygments_lexer": "ipython3",
   "version": "3.9.6"
  }
 },
 "nbformat": 4,
 "nbformat_minor": 2
}
